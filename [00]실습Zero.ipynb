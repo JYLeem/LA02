{
  "nbformat": 4,
  "nbformat_minor": 0,
  "metadata": {
    "colab": {
      "provenance": [],
      "mount_file_id": "17jdMFa147tKqsTxvANecRUeXmLG7h9mC",
      "authorship_tag": "ABX9TyNQHs5aHbTcTX1sVdG8uiVe",
      "include_colab_link": true
    },
    "kernelspec": {
      "name": "python3",
      "display_name": "Python 3"
    },
    "language_info": {
      "name": "python"
    }
  },
  "cells": [
    {
      "cell_type": "markdown",
      "metadata": {
        "id": "view-in-github",
        "colab_type": "text"
      },
      "source": [
        "<a href=\"https://colab.research.google.com/github/JYLeem/LA02/blob/main/%5B00%5D%EC%8B%A4%EC%8A%B5Zero.ipynb\" target=\"_parent\"><img src=\"https://colab.research.google.com/assets/colab-badge.svg\" alt=\"Open In Colab\"/></a>"
      ]
    },
    {
      "cell_type": "code",
      "execution_count": 3,
      "metadata": {
        "id": "xJoOll2g7rHM"
      },
      "outputs": [],
      "source": [
        "import numpy as np"
      ]
    },
    {
      "cell_type": "code",
      "source": [
        "def print_val(x):\n",
        "  print(\"Type: \", type(x))\n",
        "  print(\"Shape\", x.shape)\n",
        "  print(\"값 \\n\", x)\n",
        "  print(\" \")"
      ],
      "metadata": {
        "id": "PuxF-C0j-1Nu"
      },
      "execution_count": 8,
      "outputs": []
    },
    {
      "cell_type": "markdown",
      "source": [
        "**rank 1 np array**"
      ],
      "metadata": {
        "id": "HRhACpHkMcWM"
      }
    },
    {
      "cell_type": "code",
      "source": [
        "x = np.array([1,2,3])\n",
        "print_val(x)\n",
        "\n",
        "x[0] = 5\n",
        "print_val(x)"
      ],
      "metadata": {
        "colab": {
          "base_uri": "https://localhost:8080/"
        },
        "id": "u9Kd-Cl5LKh-",
        "outputId": "39d85dc4-10c5-4a87-d2f6-c12597c6ad52"
      },
      "execution_count": 11,
      "outputs": [
        {
          "output_type": "stream",
          "name": "stdout",
          "text": [
            "Type:  <class 'numpy.ndarray'>\n",
            "Shape (3,)\n",
            "값 \n",
            " [1 2 3]\n",
            " \n",
            "Type:  <class 'numpy.ndarray'>\n",
            "Shape (3,)\n",
            "값 \n",
            " [5 2 3]\n",
            " \n"
          ]
        }
      ]
    },
    {
      "cell_type": "markdown",
      "source": [
        "**rank 2 np array**"
      ],
      "metadata": {
        "id": "mnt7pG08Mq3u"
      }
    },
    {
      "cell_type": "code",
      "source": [
        "y = np.array([[1,2,3], [4,5,6]])\n",
        "print_val(y)"
      ],
      "metadata": {
        "colab": {
          "base_uri": "https://localhost:8080/"
        },
        "id": "Mt89JPg1LuMj",
        "outputId": "64ae3e0e-3e3b-40b3-c7d2-292f530bf92a"
      },
      "execution_count": 14,
      "outputs": [
        {
          "output_type": "stream",
          "name": "stdout",
          "text": [
            "Type:  <class 'numpy.ndarray'>\n",
            "Shape (2, 3)\n",
            "값 \n",
            " [[1 2 3]\n",
            " [4 5 6]]\n",
            " \n"
          ]
        }
      ]
    },
    {
      "cell_type": "code",
      "source": [
        "a = np.zeros((2,2))\n",
        "print_val(a)"
      ],
      "metadata": {
        "colab": {
          "base_uri": "https://localhost:8080/"
        },
        "id": "zTNCEJdnMIje",
        "outputId": "24845994-1313-4b63-9592-44d38e8f5ad6"
      },
      "execution_count": 16,
      "outputs": [
        {
          "output_type": "stream",
          "name": "stdout",
          "text": [
            "Type:  <class 'numpy.ndarray'>\n",
            "Shape (2, 2)\n",
            "값 \n",
            " [[0. 0.]\n",
            " [0. 0.]]\n",
            " \n"
          ]
        }
      ]
    },
    {
      "cell_type": "code",
      "source": [],
      "metadata": {
        "id": "8zlgoXwLMaKD"
      },
      "execution_count": null,
      "outputs": []
    }
  ]
}